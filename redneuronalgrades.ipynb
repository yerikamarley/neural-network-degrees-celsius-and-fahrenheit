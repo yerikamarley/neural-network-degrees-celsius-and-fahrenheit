{
  "nbformat": 4,
  "nbformat_minor": 0,
  "metadata": {
    "colab": {
      "provenance": []
    },
    "kernelspec": {
      "name": "python3",
      "display_name": "Python 3"
    },
    "language_info": {
      "name": "python"
    }
  },
  "cells": [
    {
      "cell_type": "code",
      "execution_count": null,
      "metadata": {
        "id": "GZe1-DmkSYyZ"
      },
      "outputs": [],
      "source": [
        "import tensorflow as tf\n",
        "import numpy as np\n"
      ]
    },
    {
      "cell_type": "code",
      "source": [
        "celsius = np.array([-40,-10,0,8,15,22,38], dtype=float)\n",
        "fahrenheit =np.array([-40,-14,32,46,59,72,100], dtype=float)\n",
        "\n"
      ],
      "metadata": {
        "id": "R6joBeh2VQn5"
      },
      "execution_count": null,
      "outputs": []
    },
    {
      "cell_type": "code",
      "source": [
        "#capa = tf.keras.layers.Dense(units=1, input_shape=[1])\n",
        "#modelo = tf.keras.Sequential([capa])\n",
        "oculta1=tf.keras.layers.Dense(units=3, input_shape=[1])\n",
        "oculta2=tf.keras.layers.Dense(units=3)\n",
        "salida =tf.keras.layers.Dense(units=1)\n",
        "modelo = tf.keras.Sequential([oculta1, oculta2, salida])"
      ],
      "metadata": {
        "id": "ECCvBrkrZugi"
      },
      "execution_count": null,
      "outputs": []
    },
    {
      "cell_type": "code",
      "source": [
        "modelo.compile(\n",
        "         optimizer=tf.keras.optimizers.Adam(0.1),\n",
        "         loss= 'mean_squared_error'\n",
        ")\n",
        "print(\"Comenzando entrenamiento\")\n",
        "historial = modelo.fit(celsius, fahrenheit, epochs=1000, verbose=False)\n",
        "print(\"Modelo entrenado\")"
      ],
      "metadata": {
        "colab": {
          "base_uri": "https://localhost:8080/"
        },
        "id": "v455kuqcd66l",
        "outputId": "81b0dc82-8e3a-48dd-a320-593ae2ababdd"
      },
      "execution_count": null,
      "outputs": [
        {
          "output_type": "stream",
          "name": "stdout",
          "text": [
            "Comenzando entrenamiento\n",
            "Modelo entrenado\n"
          ]
        }
      ]
    },
    {
      "cell_type": "code",
      "source": [
        "import matplotlib.pyplot as plt\n",
        "plt.xlabel(\"# Epoca\")\n",
        "plt.ylabel(\"Magnitud de Perdida\")\n",
        "plt.plot(historial.history[\"loss\"])"
      ],
      "metadata": {
        "colab": {
          "base_uri": "https://localhost:8080/",
          "height": 466
        },
        "id": "8CYmaWaDpyUe",
        "outputId": "f236af5a-e581-4f91-a9dd-02466ca18560"
      },
      "execution_count": null,
      "outputs": [
        {
          "output_type": "execute_result",
          "data": {
            "text/plain": [
              "[<matplotlib.lines.Line2D at 0x781c884ff670>]"
            ]
          },
          "metadata": {},
          "execution_count": 61
        },
        {
          "output_type": "display_data",
          "data": {
            "text/plain": [
              "<Figure size 640x480 with 1 Axes>"
            ],
            "image/png": "[encoded data removed]"
          },
          "metadata": {}
        }
      ]
    },
    {
      "cell_type": "code",
      "source": [
        "print(\"hagamos una predicion\")\n",
        "resultado = modelo.predict([100])\n",
        "print(\"el resultado es \"+ str (resultado) +\" fahrenheit \")"
      ],
      "metadata": {
        "colab": {
          "base_uri": "https://localhost:8080/"
        },
        "id": "9VA9pClusOGl",
        "outputId": "a59e0748-8e62-4aec-eea8-cc5e5f4c4fb7"
      },
      "execution_count": null,
      "outputs": [
        {
          "output_type": "stream",
          "name": "stdout",
          "text": [
            "hagamos una predicion\n",
            "1/1 [==============================] - 0s 83ms/step\n",
            "el resultado es [[218.18439]] fahrenheit \n"
          ]
        }
      ]
    },
    {
      "cell_type": "code",
      "source": [
        "print(\"hagamos una predicion\")\n",
        "resultado = modelo.predict([35])\n",
        "print(\"el resultado es \"+ str (resultado) +\" fahrenheit \")"
      ],
      "metadata": {
        "colab": {
          "base_uri": "https://localhost:8080/"
        },
        "id": "U93KgetYw_mS",
        "outputId": "ce225a02-dcc2-4275-8504-e657dfb0d399"
      },
      "execution_count": null,
      "outputs": [
        {
          "output_type": "stream",
          "name": "stdout",
          "text": [
            "hagamos una predicion\n",
            "1/1 [==============================] - 0s 36ms/step\n",
            "el resultado es [[94.19802]] fahrenheit \n"
          ]
        }
      ]
    },
    {
      "cell_type": "code",
      "source": [
        "print(\"variables internas del modelo\")\n",
        "#print(capa.get_weights())\n",
        "print(oculta1.get_weights())\n",
        "print(oculta2.get_weights())\n",
        "print(salida.get_weights())"
      ],
      "metadata": {
        "colab": {
          "base_uri": "https://localhost:8080/"
        },
        "id": "pD-Mso7YvIam",
        "outputId": "cc08b4f4-c880-4bc2-872a-60855ad7420e"
      },
      "execution_count": null,
      "outputs": [
        {
          "output_type": "stream",
          "name": "stdout",
          "text": [
            "variables internas del modelo\n",
            "[array([[-0.5185046 ,  0.4753625 ,  0.06859057]], dtype=float32), array([-4.2493916,  4.314312 ,  1.6931103], dtype=float32)]\n",
            "[array([[ 0.37381157,  0.27365434,  1.6371325 ],\n",
            "       [-0.0191259 , -0.00993999, -0.96239585],\n",
            "       [ 1.3967344 , -0.09162601,  0.11913134]], dtype=float32), array([ 0.11578406, -1.5853051 , -4.727479  ], dtype=float32)]\n",
            "[array([[ 0.05668047],\n",
            "       [-0.02598494],\n",
            "       [-1.4709712 ]], dtype=float32), array([4.3155622], dtype=float32)]\n"
          ]
        }
      ]
    }
  ]
}